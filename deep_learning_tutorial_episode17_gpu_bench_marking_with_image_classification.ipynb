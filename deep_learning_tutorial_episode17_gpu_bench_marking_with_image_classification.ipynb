{
  "cells": [
    {
      "cell_type": "markdown",
      "metadata": {
        "id": "view-in-github",
        "colab_type": "text"
      },
      "source": [
        "<a href=\"https://colab.research.google.com/github/hmehryar/DeepLearningTutorial/blob/main/deep_learning_tutorial_episode17_gpu_bench_marking_with_image_classification.ipynb\" target=\"_parent\"><img src=\"https://colab.research.google.com/assets/colab-badge.svg\" alt=\"Open In Colab\"/></a>"
      ]
    },
    {
      "cell_type": "markdown",
      "metadata": {
        "id": "UAYG78pusHt9"
      },
      "source": [
        "<h2 style='color:blue'>Small Image Classification Using Simple Aritifical Neural Network: GPU Benchmarking</h2>"
      ]
    },
    {
      "cell_type": "code",
      "execution_count": null,
      "metadata": {
        "scrolled": false,
        "id": "JfChEd6ksHt-"
      },
      "outputs": [],
      "source": [
        "import tensorflow as tf\n",
        "from tensorflow import keras\n",
        "import matplotlib.pyplot as plt\n",
        "import numpy as np\n",
        "import pandas as pd\n",
        "%matplotlib inline\n",
        "# Version Information\n",
        "# tensorflow 2.2.0 , Cudnn7.6.5 and Cuda 10.1 , python 3.8"
      ]
    },
    {
      "cell_type": "markdown",
      "metadata": {
        "id": "OGCC7fBksHt_"
      },
      "source": [
        "**This command shows list of physical devices available for tensorflow. You can see GPU listed here. If you have NVIDIA GPU you need to install CUDA toolkit and cuDNN as per instruction on this webpage. Without proper installation you will not see GPU in list of devices**\n",
        "\n",
        "https://shawnhymel.com/1961/how-to-install-tensorflow-with-gpu-support-on-windows/"
      ]
    },
    {
      "cell_type": "code",
      "execution_count": null,
      "metadata": {
        "scrolled": true,
        "colab": {
          "base_uri": "https://localhost:8080/"
        },
        "id": "FdlI6X2nsHuA",
        "outputId": "d61f8a3f-56e9-48a7-9de2-1e8018c7c812"
      },
      "outputs": [
        {
          "output_type": "execute_result",
          "data": {
            "text/plain": [
              "[PhysicalDevice(name='/physical_device:CPU:0', device_type='CPU'),\n",
              " PhysicalDevice(name='/physical_device:GPU:0', device_type='GPU')]"
            ]
          },
          "metadata": {},
          "execution_count": 3
        }
      ],
      "source": [
        "tf.config.experimental.list_physical_devices()"
      ]
    },
    {
      "cell_type": "code",
      "execution_count": null,
      "metadata": {
        "colab": {
          "base_uri": "https://localhost:8080/",
          "height": 35
        },
        "id": "y4SJ6Z4csHuA",
        "outputId": "afc8c3be-3867-4250-dfb5-1794e5e01391"
      },
      "outputs": [
        {
          "output_type": "execute_result",
          "data": {
            "text/plain": [
              "'2.15.0'"
            ],
            "application/vnd.google.colaboratory.intrinsic+json": {
              "type": "string"
            }
          },
          "metadata": {},
          "execution_count": 4
        }
      ],
      "source": [
        "tf.__version__"
      ]
    },
    {
      "cell_type": "code",
      "execution_count": null,
      "metadata": {
        "colab": {
          "base_uri": "https://localhost:8080/"
        },
        "id": "-1SKX6QCsHuB",
        "outputId": "7bccdc80-afc5-4fce-c5b7-31cd7ce4c983"
      },
      "outputs": [
        {
          "output_type": "execute_result",
          "data": {
            "text/plain": [
              "True"
            ]
          },
          "metadata": {},
          "execution_count": 5
        }
      ],
      "source": [
        "tf.test.is_built_with_cuda()"
      ]
    },
    {
      "cell_type": "markdown",
      "metadata": {
        "id": "S0jPZnSBsHuB"
      },
      "source": [
        "<h4 style=\"color:purple\">Load the dataset</h4>"
      ]
    },
    {
      "cell_type": "markdown",
      "metadata": {
        "id": "gz4dh2cWsHuB"
      },
      "source": [
        "Our dataset contains 1000 small training images that belongs to one of the below 3 diffetent $\\alpha_s$ classes"
      ]
    },
    {
      "cell_type": "code",
      "source": [
        "import sys\n",
        "sys.path.insert(1,'/wsu/home/gy/gy40/gy4065/hm.jetscapeml.source')\n",
        "sys.path.insert(1,'/content/drive/My Drive/Projects/110_JetscapeMl/hm.jetscapeml.source')\n",
        "sys.path.insert(1,'/content/drive/MyDrive/Projects/110_JetscapeMl/hm.jetscapeml.source')\n",
        "sys.path.insert(1,'/g/My Drive/Projects/110_JetscapeMl/hm.jetscapeml.source')\n",
        "sys.path.insert(1,'G:\\\\My Drive\\\\Projects\\\\110_JetscapeMl\\\\hm.jetscapeml.source')"
      ],
      "metadata": {
        "id": "suBT07elt4y6"
      },
      "execution_count": null,
      "outputs": []
    },
    {
      "cell_type": "code",
      "source": [
        "import os\n",
        "\n",
        "def load_data():\n",
        "  from google.colab import drive\n",
        "  df=None\n",
        "  # Check if Google Drive is mounted\n",
        "  google_drive_path = '/content/drive/'\n",
        "  if os.path.isdir(google_drive_path):\n",
        "      # Google Drive is mounted, get the file from Google Drive\n",
        "      file_path = '/content/drive/MyDrive/Projects/110_JetscapeMl/hm.jetscapeml.data/jet_ml_benchmark_config_01_to_09_alpha_0.2_0.3_0.4_q0_1.5_2.0_2.5_MMAT_MLBT_size_1000_shuffled.pkl'\n",
        "      if os.path.exists(file_path):\n",
        "          # File exists on Google Drive, load it\n",
        "          df=pd.read_pickle('/content/drive/MyDrive/Projects/110_JetscapeMl/hm.jetscapeml.data/jet_ml_benchmark_config_01_to_09_alpha_0.2_0.3_0.4_q0_1.5_2.0_2.5_MMAT_MLBT_size_1000_shuffled.pkl')\n",
        "      else:\n",
        "          print(\"File does not exist on Google Drive.\")\n",
        "  else:\n",
        "      # Google Drive is not mounted, load the file from the file system\n",
        "      file_path = \"G:\\\\My Drive\\\\Projects\\\\110_JetscapeMl\\\\hm.jetscapeml.data\\\\simulation_results\\\\jet_ml_benchmark_config_01_to_09_alpha_0.2_0.3_0.4_q0_1.5_2.0_2.5_MMAT_MLBT_size_1000_shuffled.pkl\"\n",
        "      if os.path.exists(file_path):\n",
        "          # File exists on the file system, load it\n",
        "          df=pd.read_pickle(\"G:\\\\My Drive\\\\Projects\\\\110_JetscapeMl\\\\hm.jetscapeml.data\\\\simulation_results\\\\jet_ml_benchmark_config_01_to_09_alpha_0.2_0.3_0.4_q0_1.5_2.0_2.5_MMAT_MLBT_size_1000_shuffled.pkl\")\n",
        "      else:\n",
        "          print(\"File does not exist on the file system.\")\n",
        "  # if (drive.mount('/content/drive')==True):\n",
        "  #   df=pd.read_pickle('/content/drive/MyDrive/Projects/110_JetscapeMl/hm.jetscapeml.data/jet_ml_benchmark_config_01_to_09_alpha_0.2_0.3_0.4_q0_1.5_2.0_2.5_MMAT_MLBT_size_1000_shuffled.pkl')\n",
        "  # else:\n",
        "  #   df=pd.read_pickle(\"G:\\\\My Drive\\\\Projects\\\\110_JetscapeMl\\\\hm.jetscapeml.data\\\\simulation_results\\\\jet_ml_benchmark_config_01_to_09_alpha_0.2_0.3_0.4_q0_1.5_2.0_2.5_MMAT_MLBT_size_1000_shuffled.pkl\")\n",
        "\n",
        "\n",
        "  from sklearn.model_selection import train_test_split\n",
        "  type(df)\n",
        "  dataset_x=df[0]\n",
        "  dataset_y=df[1]\n",
        "  dataset_x.shape\n",
        "  X_train, X_test, y_train, y_test=train_test_split(dataset_x,dataset_y,test_size=0.2, random_state=None)\n",
        "  return ((X_train, y_train), (X_test,y_test))\n"
      ],
      "metadata": {
        "id": "cTWFml_Mn5sg"
      },
      "execution_count": null,
      "outputs": []
    },
    {
      "cell_type": "code",
      "source": [
        "((X_train, y_train), (X_test,y_test)) = load_data()"
      ],
      "metadata": {
        "id": "wzNgGvSitoBI"
      },
      "execution_count": null,
      "outputs": []
    },
    {
      "cell_type": "code",
      "execution_count": null,
      "metadata": {
        "colab": {
          "base_uri": "https://localhost:8080/"
        },
        "id": "yu1Tt1nqsHuB",
        "outputId": "4fd7704d-5fee-4d0a-e9b8-e613d6a0659d"
      },
      "outputs": [
        {
          "output_type": "stream",
          "name": "stdout",
          "text": [
            "Downloading data from https://www.cs.toronto.edu/~kriz/cifar-10-python.tar.gz\n",
            "170498071/170498071 [==============================] - 11s 0us/step\n"
          ]
        }
      ],
      "source": []
    },
    {
      "cell_type": "code",
      "execution_count": null,
      "metadata": {
        "colab": {
          "base_uri": "https://localhost:8080/"
        },
        "id": "luWo85J8sHuB",
        "outputId": "3a5a4c1d-e605-4dc0-c089-6f15fc1c90d8"
      },
      "outputs": [
        {
          "output_type": "execute_result",
          "data": {
            "text/plain": [
              "(800, 32, 32)"
            ]
          },
          "metadata": {},
          "execution_count": 27
        }
      ],
      "source": [
        "X_train.shape"
      ]
    },
    {
      "cell_type": "code",
      "source": [
        "y_train=y_train[:,1]\n",
        "y_test=y_test[:,1]"
      ],
      "metadata": {
        "id": "szOwdKPBxrFr"
      },
      "execution_count": null,
      "outputs": []
    },
    {
      "cell_type": "code",
      "execution_count": null,
      "metadata": {
        "scrolled": true,
        "colab": {
          "base_uri": "https://localhost:8080/"
        },
        "id": "dGwu9trssHuC",
        "outputId": "d65807fa-ec91-4d8f-87f9-f92f5e725f96"
      },
      "outputs": [
        {
          "output_type": "execute_result",
          "data": {
            "text/plain": [
              "(800,)"
            ]
          },
          "metadata": {},
          "execution_count": 34
        }
      ],
      "source": [
        "y_train.shape"
      ]
    },
    {
      "cell_type": "markdown",
      "metadata": {
        "id": "IgJik8mPsHuC"
      },
      "source": [
        "<h4 style=\"color:purple\">Data Visualization</h4>"
      ]
    },
    {
      "cell_type": "code",
      "execution_count": null,
      "metadata": {
        "id": "Td4B8rEqsHuC"
      },
      "outputs": [],
      "source": [
        "def plot_sample(index):\n",
        "    plt.figure(figsize = (10,1))\n",
        "    plt.imshow(X_train[index])"
      ]
    },
    {
      "cell_type": "code",
      "execution_count": null,
      "metadata": {
        "colab": {
          "base_uri": "https://localhost:8080/",
          "height": 142
        },
        "id": "d3O4EqcKsHuC",
        "outputId": "03897edc-8d03-4ec5-e6b5-2fba21262a59"
      },
      "outputs": [
        {
          "output_type": "display_data",
          "data": {
            "text/plain": [
              "<Figure size 1000x100 with 1 Axes>"
            ],
            "image/png": "[encoded data removed]"
          },
          "metadata": {}
        }
      ],
      "source": [
        "plot_sample(0)"
      ]
    },
    {
      "cell_type": "code",
      "execution_count": null,
      "metadata": {
        "colab": {
          "base_uri": "https://localhost:8080/",
          "height": 142
        },
        "id": "zgXJm7wTsHuC",
        "outputId": "fcd083db-1859-4787-a873-516581751fe1"
      },
      "outputs": [
        {
          "output_type": "display_data",
          "data": {
            "text/plain": [
              "<Figure size 1000x100 with 1 Axes>"
            ],
            "image/png": "[encoded data removed]"
          },
          "metadata": {}
        }
      ],
      "source": [
        "plot_sample(1)"
      ]
    },
    {
      "cell_type": "code",
      "execution_count": null,
      "metadata": {
        "scrolled": true,
        "colab": {
          "base_uri": "https://localhost:8080/",
          "height": 142
        },
        "id": "y1CBC-kQsHuC",
        "outputId": "2c69248d-f2c5-4e12-c27d-5b8016e7f4e7"
      },
      "outputs": [
        {
          "output_type": "display_data",
          "data": {
            "text/plain": [
              "<Figure size 1000x100 with 1 Axes>"
            ],
            "image/png": "[encoded data removed]"
          },
          "metadata": {}
        }
      ],
      "source": [
        "plot_sample(2)"
      ]
    },
    {
      "cell_type": "code",
      "source": [
        "classes=['0.2' ,'0.3' ,'0.4']"
      ],
      "metadata": {
        "id": "8CiE7IBkywpr"
      },
      "execution_count": null,
      "outputs": []
    },
    {
      "cell_type": "code",
      "execution_count": null,
      "metadata": {
        "scrolled": true,
        "colab": {
          "base_uri": "https://localhost:8080/",
          "height": 142
        },
        "id": "FipwZubTsHuD",
        "outputId": "6b51e0cd-b442-4cc0-dd57-f6ef9b94a67d"
      },
      "outputs": [
        {
          "output_type": "display_data",
          "data": {
            "text/plain": [
              "<Figure size 1000x100 with 1 Axes>"
            ],
            "image/png": "[encoded data removed]"
          },
          "metadata": {}
        }
      ],
      "source": [
        "plot_sample(3)"
      ]
    },
    {
      "cell_type": "code",
      "source": [
        "y_train[3]"
      ],
      "metadata": {
        "colab": {
          "base_uri": "https://localhost:8080/",
          "height": 35
        },
        "id": "Om6qEcxLz2yB",
        "outputId": "f1c92a2d-053b-4ada-b0ca-7df2da82189c"
      },
      "execution_count": null,
      "outputs": [
        {
          "output_type": "execute_result",
          "data": {
            "text/plain": [
              "'0.2'"
            ],
            "application/vnd.google.colaboratory.intrinsic+json": {
              "type": "string"
            }
          },
          "metadata": {},
          "execution_count": 47
        }
      ]
    },
    {
      "cell_type": "code",
      "source": [
        "# prompt: convert y_train into classes index by integer\n",
        "\n",
        "y_train_index = [classes.index(str(y)) for y in y_train]\n",
        "y_test_index = [classes.index(str(y)) for y in y_test]\n"
      ],
      "metadata": {
        "id": "1wdTc3B52QGF"
      },
      "execution_count": null,
      "outputs": []
    },
    {
      "cell_type": "code",
      "source": [
        "y_train[3]"
      ],
      "metadata": {
        "colab": {
          "base_uri": "https://localhost:8080/",
          "height": 35
        },
        "id": "ZobuGXdM2E20",
        "outputId": "487e77a6-8fa4-435f-8bdc-808d12d82d44"
      },
      "execution_count": null,
      "outputs": [
        {
          "output_type": "execute_result",
          "data": {
            "text/plain": [
              "'0.2'"
            ],
            "application/vnd.google.colaboratory.intrinsic+json": {
              "type": "string"
            }
          },
          "metadata": {},
          "execution_count": 69
        }
      ]
    },
    {
      "cell_type": "code",
      "execution_count": null,
      "metadata": {
        "colab": {
          "base_uri": "https://localhost:8080/",
          "height": 35
        },
        "id": "mpDScvVdsHuD",
        "outputId": "7c104969-0a6c-4d17-fbce-3a5851916c5b"
      },
      "outputs": [
        {
          "output_type": "execute_result",
          "data": {
            "text/plain": [
              "'0.2'"
            ],
            "application/vnd.google.colaboratory.intrinsic+json": {
              "type": "string"
            }
          },
          "metadata": {},
          "execution_count": 68
        }
      ],
      "source": [
        "classes[y_train_index[3]]"
      ]
    },
    {
      "cell_type": "code",
      "execution_count": null,
      "metadata": {
        "scrolled": true,
        "colab": {
          "base_uri": "https://localhost:8080/"
        },
        "id": "_z4R6stpsHuD",
        "outputId": "004b9730-07a6-43b3-9cc2-358ffc1b8a46"
      },
      "outputs": [
        {
          "output_type": "execute_result",
          "data": {
            "text/plain": [
              "array(['0.3', '0.3', '0.2'], dtype='<U32')"
            ]
          },
          "metadata": {},
          "execution_count": 50
        }
      ],
      "source": [
        "y_train[:3]"
      ]
    },
    {
      "cell_type": "code",
      "execution_count": null,
      "metadata": {
        "colab": {
          "base_uri": "https://localhost:8080/"
        },
        "id": "rIX7J5PisHuD",
        "outputId": "08dcc04f-9c71-4fea-c3e9-602285c214f5"
      },
      "outputs": [
        {
          "output_type": "execute_result",
          "data": {
            "text/plain": [
              "(200,)"
            ]
          },
          "metadata": {},
          "execution_count": 71
        }
      ],
      "source": [
        "y_test.shape"
      ]
    },
    {
      "cell_type": "code",
      "execution_count": null,
      "metadata": {
        "scrolled": true,
        "colab": {
          "base_uri": "https://localhost:8080/"
        },
        "id": "vZRXuq0qsHuD",
        "outputId": "40e7cd8f-1a23-47ad-80ea-6f3fc23501d0"
      },
      "outputs": [
        {
          "output_type": "execute_result",
          "data": {
            "text/plain": [
              "(800, 32, 32)"
            ]
          },
          "metadata": {},
          "execution_count": 72
        }
      ],
      "source": [
        "X_train.shape"
      ]
    },
    {
      "cell_type": "markdown",
      "metadata": {
        "id": "s2AKcDT9sHuD"
      },
      "source": [
        "<h4 style=\"color:purple\">Preprocessing: Scale images</h4>"
      ]
    },
    {
      "cell_type": "code",
      "source": [
        "# prompt: get the max from X_train and X_test\n",
        "\n",
        "max_value = np.max(np.concatenate((X_train, X_test), axis=0))\n",
        "max_value"
      ],
      "metadata": {
        "colab": {
          "base_uri": "https://localhost:8080/"
        },
        "id": "QcrrlzOS1D4c",
        "outputId": "42de43c9-5655-4f5e-e2f3-1672582f3870"
      },
      "execution_count": null,
      "outputs": [
        {
          "output_type": "execute_result",
          "data": {
            "text/plain": [
              "86.90838000000002"
            ]
          },
          "metadata": {},
          "execution_count": 73
        }
      ]
    },
    {
      "cell_type": "code",
      "execution_count": null,
      "metadata": {
        "scrolled": true,
        "id": "LvYh1rM0sHuD"
      },
      "outputs": [],
      "source": [
        "X_train_scaled = X_train / max_value\n",
        "X_test_scaled = X_test / max_value"
      ]
    },
    {
      "cell_type": "code",
      "source": [
        "X_train_scaled[1,:].shape"
      ],
      "metadata": {
        "colab": {
          "base_uri": "https://localhost:8080/"
        },
        "id": "DTcoQBT93LY9",
        "outputId": "64fa0d76-be5d-4df4-8c16-448c7ac8b0b8"
      },
      "execution_count": null,
      "outputs": [
        {
          "output_type": "execute_result",
          "data": {
            "text/plain": [
              "(32, 32)"
            ]
          },
          "metadata": {},
          "execution_count": 89
        }
      ]
    },
    {
      "cell_type": "code",
      "execution_count": null,
      "metadata": {
        "id": "aQa6ejQ3sHuE"
      },
      "outputs": [],
      "source": [
        "y_train_categorical = keras.utils.to_categorical(\n",
        "    y_train_index, num_classes=3, dtype='float32'\n",
        ")\n",
        "y_test_categorical = keras.utils.to_categorical(\n",
        "    y_test_index, num_classes=3, dtype='float32'\n",
        ")"
      ]
    },
    {
      "cell_type": "code",
      "execution_count": null,
      "metadata": {
        "colab": {
          "base_uri": "https://localhost:8080/"
        },
        "id": "oiwPsjgDsHuE",
        "outputId": "5d99a12e-726d-4cf6-d0cd-b87812d43915"
      },
      "outputs": [
        {
          "output_type": "execute_result",
          "data": {
            "text/plain": [
              "array(['0.3', '0.3', '0.2', '0.2', '0.3'], dtype='<U32')"
            ]
          },
          "metadata": {},
          "execution_count": 76
        }
      ],
      "source": [
        "y_train[0:5]"
      ]
    },
    {
      "cell_type": "code",
      "execution_count": null,
      "metadata": {
        "scrolled": true,
        "colab": {
          "base_uri": "https://localhost:8080/"
        },
        "id": "mIInJgwcsHuE",
        "outputId": "38ca14ad-c2d7-4b4b-e23d-bced57968533"
      },
      "outputs": [
        {
          "output_type": "execute_result",
          "data": {
            "text/plain": [
              "array([[0., 1., 0.],\n",
              "       [0., 1., 0.],\n",
              "       [1., 0., 0.],\n",
              "       [1., 0., 0.],\n",
              "       [0., 1., 0.]], dtype=float32)"
            ]
          },
          "metadata": {},
          "execution_count": 77
        }
      ],
      "source": [
        "y_train_categorical[0:5]"
      ]
    },
    {
      "cell_type": "markdown",
      "metadata": {
        "id": "e7pGifkNsHuE"
      },
      "source": [
        "<h4 style=\"color:purple\">Model building and training</h4>"
      ]
    },
    {
      "cell_type": "code",
      "execution_count": null,
      "metadata": {
        "scrolled": true,
        "colab": {
          "base_uri": "https://localhost:8080/"
        },
        "id": "TdGNuPFKsHuE",
        "outputId": "b84b4163-d7c9-4f54-f758-d70efa5c5d5e"
      },
      "outputs": [
        {
          "output_type": "stream",
          "name": "stdout",
          "text": [
            "25/25 [==============================] - 2s 4ms/step - loss: 1.0988 - accuracy: 0.3212\n"
          ]
        },
        {
          "output_type": "execute_result",
          "data": {
            "text/plain": [
              "<keras.src.callbacks.History at 0x7b9b90632950>"
            ]
          },
          "metadata": {},
          "execution_count": 91
        }
      ],
      "source": [
        "model = keras.Sequential([\n",
        "        keras.layers.Flatten(input_shape=(32,32)),\n",
        "        keras.layers.Dense(3000, activation='relu'),\n",
        "        keras.layers.Dense(1000, activation='relu'),\n",
        "        keras.layers.Dense(3, activation='sigmoid')\n",
        "    ])\n",
        "\n",
        "model.compile(optimizer='SGD',\n",
        "              loss='categorical_crossentropy',\n",
        "              metrics=['accuracy'])\n",
        "\n",
        "model.fit(X_train_scaled, y_train_categorical, epochs=1)"
      ]
    },
    {
      "cell_type": "markdown",
      "metadata": {
        "id": "G970YEf6sHuE"
      },
      "source": [
        "<h4 style=\"color:purple\">Let's make some predictions</h4>"
      ]
    },
    {
      "cell_type": "code",
      "execution_count": null,
      "metadata": {
        "colab": {
          "base_uri": "https://localhost:8080/"
        },
        "id": "1PGmIEjwsHuE",
        "outputId": "7553c329-de39-4b66-b9c9-14bdc0910681"
      },
      "outputs": [
        {
          "output_type": "stream",
          "name": "stdout",
          "text": [
            "7/7 [==============================] - 0s 4ms/step\n"
          ]
        },
        {
          "output_type": "execute_result",
          "data": {
            "text/plain": [
              "1"
            ]
          },
          "metadata": {},
          "execution_count": 92
        }
      ],
      "source": [
        "np.argmax(model.predict(X_test_scaled)[0])"
      ]
    },
    {
      "cell_type": "code",
      "execution_count": null,
      "metadata": {
        "colab": {
          "base_uri": "https://localhost:8080/",
          "height": 35
        },
        "id": "j3ibbDzEsHuE",
        "outputId": "6e9e8e4f-3a72-4457-8bd4-d5948759f1d5"
      },
      "outputs": [
        {
          "output_type": "execute_result",
          "data": {
            "text/plain": [
              "'0.3'"
            ],
            "application/vnd.google.colaboratory.intrinsic+json": {
              "type": "string"
            }
          },
          "metadata": {},
          "execution_count": 93
        }
      ],
      "source": [
        "y_test[0]"
      ]
    },
    {
      "cell_type": "code",
      "execution_count": null,
      "metadata": {
        "id": "0OEhrkdLsHuF"
      },
      "outputs": [],
      "source": [
        "def get_model():\n",
        "    model = keras.Sequential([\n",
        "            keras.layers.Flatten(input_shape=(32,32)),\n",
        "            keras.layers.Dense(3000, activation='relu'),\n",
        "            keras.layers.Dense(1000, activation='relu'),\n",
        "            keras.layers.Dense(3, activation='sigmoid')\n",
        "        ])\n",
        "\n",
        "    model.compile(optimizer='SGD',\n",
        "                  loss='categorical_crossentropy',\n",
        "                  metrics=['accuracy'])\n",
        "    return model"
      ]
    },
    {
      "cell_type": "markdown",
      "metadata": {
        "id": "bX5FP3PksHuF"
      },
      "source": [
        "<h3 style='color:purple'>Measure training time on a CPU<h3>"
      ]
    },
    {
      "cell_type": "code",
      "execution_count": null,
      "metadata": {
        "scrolled": true,
        "colab": {
          "base_uri": "https://localhost:8080/"
        },
        "id": "NqjyMUsWsHuF",
        "outputId": "223980b2-7c69-4028-ef6c-2cb9b7c7227a"
      },
      "outputs": [
        {
          "output_type": "stream",
          "name": "stdout",
          "text": [
            "25/25 [==============================] - 2s 39ms/step - loss: 1.0990 - accuracy: 0.3025\n",
            "1.72 s ± 0 ns per loop (mean ± std. dev. of 1 run, 1 loop each)\n"
          ]
        }
      ],
      "source": [
        "%%timeit -n1 -r1\n",
        "with tf.device('/CPU:0'):\n",
        "    cpu_model = get_model()\n",
        "    cpu_model.fit(X_train_scaled, y_train_categorical, epochs=1)"
      ]
    },
    {
      "cell_type": "markdown",
      "metadata": {
        "id": "9qynHqmbsHuF"
      },
      "source": [
        "<h3 style='color:purple'>Lets measure training time on a GPU (I've NVIDIA Titan RTX)<h3>"
      ]
    },
    {
      "cell_type": "code",
      "execution_count": null,
      "metadata": {
        "colab": {
          "base_uri": "https://localhost:8080/"
        },
        "id": "ptQDyfc6sHuF",
        "outputId": "c83cc534-66a9-4108-8fd4-474b19167d7a"
      },
      "outputs": [
        {
          "output_type": "stream",
          "name": "stdout",
          "text": [
            "25/25 [==============================] - 1s 4ms/step - loss: 1.0992 - accuracy: 0.2988\n",
            "1.09 s ± 0 ns per loop (mean ± std. dev. of 1 run, 1 loop each)\n"
          ]
        }
      ],
      "source": [
        "%%timeit -n1 -r1\n",
        "with tf.device('/GPU:0'):\n",
        "    cpu_model = get_model()\n",
        "    cpu_model.fit(X_train_scaled, y_train_categorical, epochs=1)"
      ]
    },
    {
      "cell_type": "markdown",
      "metadata": {
        "id": "oJsrrD35sHuF"
      },
      "source": [
        "<h3 style='color:purple'>Lets run same test for 10 epocs<h3>"
      ]
    },
    {
      "cell_type": "code",
      "execution_count": null,
      "metadata": {
        "id": "gK61LJ0asHuG",
        "outputId": "c00e566c-5087-4c2a-ec65-eac933762333",
        "colab": {
          "base_uri": "https://localhost:8080/"
        }
      },
      "outputs": [
        {
          "output_type": "stream",
          "name": "stdout",
          "text": [
            "Epoch 1/10\n",
            "25/25 [==============================] - 2s 54ms/step - loss: 1.0992 - accuracy: 0.3187\n",
            "Epoch 2/10\n",
            "25/25 [==============================] - 1s 53ms/step - loss: 1.0988 - accuracy: 0.3325\n",
            "Epoch 3/10\n",
            "25/25 [==============================] - 1s 52ms/step - loss: 1.0985 - accuracy: 0.3487\n",
            "Epoch 4/10\n",
            "25/25 [==============================] - 1s 45ms/step - loss: 1.0983 - accuracy: 0.3625\n",
            "Epoch 5/10\n",
            "25/25 [==============================] - 1s 36ms/step - loss: 1.0979 - accuracy: 0.3587\n",
            "Epoch 6/10\n",
            "25/25 [==============================] - 1s 36ms/step - loss: 1.0977 - accuracy: 0.3713\n",
            "Epoch 7/10\n",
            "25/25 [==============================] - 1s 38ms/step - loss: 1.0973 - accuracy: 0.3725\n",
            "Epoch 8/10\n",
            "25/25 [==============================] - 1s 35ms/step - loss: 1.0971 - accuracy: 0.3725\n",
            "Epoch 9/10\n",
            "25/25 [==============================] - 1s 35ms/step - loss: 1.0968 - accuracy: 0.3900\n",
            "Epoch 10/10\n",
            "25/25 [==============================] - 1s 36ms/step - loss: 1.0966 - accuracy: 0.3587\n",
            "21 s ± 0 ns per loop (mean ± std. dev. of 1 run, 1 loop each)\n"
          ]
        }
      ],
      "source": [
        "%%timeit -n1 -r1\n",
        "with tf.device('/CPU:0'):\n",
        "    cpu_model = get_model()\n",
        "    cpu_model.fit(X_train_scaled, y_train_categorical, epochs=10)"
      ]
    },
    {
      "cell_type": "code",
      "execution_count": null,
      "metadata": {
        "scrolled": true,
        "id": "rQ79UGNCsHuG",
        "outputId": "4780f582-2f11-4574-961d-89128a3e471c",
        "colab": {
          "base_uri": "https://localhost:8080/"
        }
      },
      "outputs": [
        {
          "output_type": "stream",
          "name": "stdout",
          "text": [
            "Epoch 1/10\n",
            "25/25 [==============================] - 1s 5ms/step - loss: 1.0986 - accuracy: 0.3325\n",
            "Epoch 2/10\n",
            "25/25 [==============================] - 0s 5ms/step - loss: 1.0983 - accuracy: 0.3562\n",
            "Epoch 3/10\n",
            "25/25 [==============================] - 0s 5ms/step - loss: 1.0979 - accuracy: 0.3762\n",
            "Epoch 4/10\n",
            "25/25 [==============================] - 0s 4ms/step - loss: 1.0975 - accuracy: 0.3537\n",
            "Epoch 5/10\n",
            "25/25 [==============================] - 0s 4ms/step - loss: 1.0973 - accuracy: 0.3475\n",
            "Epoch 6/10\n",
            "25/25 [==============================] - 0s 4ms/step - loss: 1.0971 - accuracy: 0.3363\n",
            "Epoch 7/10\n",
            "25/25 [==============================] - 0s 5ms/step - loss: 1.0968 - accuracy: 0.3438\n",
            "Epoch 8/10\n",
            "25/25 [==============================] - 0s 5ms/step - loss: 1.0965 - accuracy: 0.3613\n",
            "Epoch 9/10\n",
            "25/25 [==============================] - 0s 5ms/step - loss: 1.0963 - accuracy: 0.3462\n",
            "Epoch 10/10\n",
            "25/25 [==============================] - 0s 4ms/step - loss: 1.0960 - accuracy: 0.3512\n",
            "3.07 s ± 0 ns per loop (mean ± std. dev. of 1 run, 1 loop each)\n"
          ]
        }
      ],
      "source": [
        "%%timeit -n1 -r1\n",
        "with tf.device('/GPU:0'):\n",
        "    cpu_model = get_model()\n",
        "    cpu_model.fit(X_train_scaled, y_train_categorical, epochs=10)"
      ]
    },
    {
      "cell_type": "markdown",
      "metadata": {
        "id": "L8jSuJlRsHuG"
      },
      "source": [
        "Here is the performance comparison for 1 epoch,\n",
        "\n",
        "| Epoch | CPU | GPU  |\n",
        "|:------|:------|:------|\n",
        "| 1 | 1.72 sec | 1.09 sec |\n",
        "| 10 | 21 sec | 3.07 sec |\n",
        "\n",
        "You can see that GPU is almost 7 times faster. We ran only one epoch for benchmarking but for actual training we have to run many epochs and also when data volume is big running deep learning without GPU can consume so much time. This is the reason why GPUs are becoming popular in the field of deep learning"
      ]
    }
  ],
  "metadata": {
    "kernelspec": {
      "display_name": "Python 3",
      "name": "python3"
    },
    "language_info": {
      "codemirror_mode": {
        "name": "ipython",
        "version": 3
      },
      "file_extension": ".py",
      "mimetype": "text/x-python",
      "name": "python",
      "nbconvert_exporter": "python",
      "pygments_lexer": "ipython3",
      "version": "3.8.5"
    },
    "colab": {
      "provenance": [],
      "gpuType": "T4",
      "include_colab_link": true
    },
    "accelerator": "GPU"
  },
  "nbformat": 4,
  "nbformat_minor": 0
}
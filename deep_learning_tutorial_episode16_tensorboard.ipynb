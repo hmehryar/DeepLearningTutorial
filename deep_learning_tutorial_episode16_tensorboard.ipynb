{
 "cells": [
  {
   "cell_type": "code",
   "execution_count": null,
   "id": "42f15a83",
   "metadata": {},
   "outputs": [],
   "source": [
    "import numpy as np\n",
    "import tensorflow as tf\n",
    "from tensorflow import keras\n",
    "import pandas as pd\n",
    "import matplotlib.pyplot as plt\n",
    "%matplotlib inline"
   ]
  },
  {
   "cell_type": "code",
   "execution_count": 12,
   "id": "b8892337",
   "metadata": {},
   "outputs": [
    {
     "data": {
      "text/plain": [
       "(100000, 32, 32)"
      ]
     },
     "execution_count": 12,
     "metadata": {},
     "output_type": "execute_result"
    }
   ],
   "source": [
    "# (x_train, y_train), (x_test,y_test)=keras.datasets.mnist.load_data()\n",
    "df=pd.read_pickle(\"G:\\\\My Drive\\\\Projects\\\\110_JetscapeMl\\\\hm.jetscapeml.data\\\\simulation_results\\\\jet_ml_benchmark_config_01_to_09_alpha_0.2_0.3_0.4_q0_1.5_2.0_2.5_MMAT_MLBT_size_100000_shuffled.pkl\")\n",
    "\n",
    "type(df)\n",
    "dataset_x=df[0]\n",
    "dataset_y=df[1]\n",
    "dataset_x.shape"
   ]
  },
  {
   "cell_type": "code",
   "execution_count": 13,
   "id": "025bcc10",
   "metadata": {},
   "outputs": [],
   "source": [
    "from sklearn.model_selection import train_test_split\n",
    "x_train,x_test,y_train,y_test=train_test_split(dataset_x,dataset_y, test_size=0.2,random_state=25)"
   ]
  },
  {
   "cell_type": "code",
   "execution_count": 14,
   "id": "ec365ad8",
   "metadata": {},
   "outputs": [
    {
     "name": "stdout",
     "output_type": "stream",
     "text": [
      "x_train (80000, 32, 32) 80000\n",
      "x_test (20000, 32, 32) 20000\n"
     ]
    }
   ],
   "source": [
    "print (\"x_train\",x_train.shape,len(x_train))\n",
    "print (\"x_test\",x_test.shape,len(x_test))\n"
   ]
  },
  {
   "cell_type": "code",
   "execution_count": 15,
   "id": "7b2d9825",
   "metadata": {},
   "outputs": [
    {
     "data": {
      "text/plain": [
       "(32, 32)"
      ]
     },
     "execution_count": 15,
     "metadata": {},
     "output_type": "execute_result"
    }
   ],
   "source": [
    "x_train[0].shape"
   ]
  },
  {
   "cell_type": "code",
   "execution_count": 16,
   "id": "2e379907",
   "metadata": {},
   "outputs": [
    {
     "data": {
      "text/plain": [
       "array([[0.       , 0.       , 0.       , ..., 0.       , 0.       ,\n",
       "        0.       ],\n",
       "       [0.       , 0.       , 0.       , ..., 0.       , 0.       ,\n",
       "        0.       ],\n",
       "       [0.       , 0.       , 0.       , ..., 0.       , 0.       ,\n",
       "        0.       ],\n",
       "       ...,\n",
       "       [0.0124426, 0.       , 0.       , ..., 0.       , 0.       ,\n",
       "        0.       ],\n",
       "       [0.       , 0.       , 0.       , ..., 0.       , 0.       ,\n",
       "        0.       ],\n",
       "       [0.       , 0.       , 0.       , ..., 0.       , 0.       ,\n",
       "        0.0790065]])"
      ]
     },
     "execution_count": 16,
     "metadata": {},
     "output_type": "execute_result"
    }
   ],
   "source": [
    "x_train[0]"
   ]
  },
  {
   "cell_type": "code",
   "execution_count": 17,
   "id": "dc5e5a55",
   "metadata": {},
   "outputs": [
    {
     "data": {
      "text/plain": [
       "<matplotlib.image.AxesImage at 0x1a163d46d50>"
      ]
     },
     "execution_count": 17,
     "metadata": {},
     "output_type": "execute_result"
    },
    {
     "data": {
      "image/png": "[encoded data removed]",
      "text/plain": [
       "<Figure size 480x480 with 1 Axes>"
      ]
     },
     "metadata": {},
     "output_type": "display_data"
    }
   ],
   "source": [
    "plt.matshow(x_train[1])"
   ]
  },
  {
   "cell_type": "code",
   "execution_count": 18,
   "id": "e11f2e9f",
   "metadata": {},
   "outputs": [
    {
     "data": {
      "text/plain": [
       "array(['MMAT', '0.2', '1'], dtype='<U32')"
      ]
     },
     "execution_count": 18,
     "metadata": {},
     "output_type": "execute_result"
    }
   ],
   "source": [
    "y_train[1]"
   ]
  },
  {
   "cell_type": "code",
   "execution_count": 19,
   "id": "1073df0c",
   "metadata": {},
   "outputs": [
    {
     "data": {
      "text/plain": [
       "array([['MMAT', '0.3', '1'],\n",
       "       ['MMAT', '0.2', '1'],\n",
       "       ['MMAT', '0.3', '1'],\n",
       "       ['MLBT', '0.4', '2.0'],\n",
       "       ['MLBT', '0.3', '2.5']], dtype='<U32')"
      ]
     },
     "execution_count": 19,
     "metadata": {},
     "output_type": "execute_result"
    }
   ],
   "source": [
    "y_train[:5]"
   ]
  },
  {
   "cell_type": "code",
   "execution_count": 24,
   "id": "32d88715",
   "metadata": {},
   "outputs": [],
   "source": [
    "x_train_item_shape=x_train[0].shape"
   ]
  },
  {
   "cell_type": "code",
   "execution_count": 29,
   "id": "e3af3fe4",
   "metadata": {},
   "outputs": [
    {
     "name": "stdout",
     "output_type": "stream",
     "text": [
      "y_train_0_categorical_encoded (80000, 2) 80000\n",
      "y_test_0_categorical_encoded (20000, 2) 20000\n"
     ]
    }
   ],
   "source": [
    "from sklearn.preprocessing import OneHotEncoder\n",
    "\n",
    "\n",
    "y_train_0_categorical = np.array(y_train[:,0]).reshape(-1, 1)\n",
    "y_test_0_categorical = np.array(y_test[:,0]).reshape(-1, 1)\n",
    "\n",
    "encoder = OneHotEncoder(sparse_output=False)\n",
    "y_train_0_categorical_encoded = encoder.fit_transform(y_train_0_categorical)\n",
    "y_test_0_categorical_encoded = encoder.transform(y_test_0_categorical)\n",
    "\n",
    "print (\"y_train_0_categorical_encoded\",y_train_0_categorical_encoded.shape,len(y_train_0_categorical_encoded))\n",
    "print (\"y_test_0_categorical_encoded\",y_test_0_categorical_encoded.shape,len(y_test_0_categorical_encoded))"
   ]
  },
  {
   "cell_type": "code",
   "execution_count": 51,
   "id": "54051ec9",
   "metadata": {},
   "outputs": [
    {
     "name": "stdout",
     "output_type": "stream",
     "text": [
      "Epoch 1/5\n",
      "2500/2500 [==============================] - 7s 3ms/step - loss: 0.6928 - accuracy: 0.5321\n",
      "Epoch 2/5\n",
      "2500/2500 [==============================] - 6s 2ms/step - loss: 0.6927 - accuracy: 0.5495\n",
      "Epoch 3/5\n",
      "2500/2500 [==============================] - 5s 2ms/step - loss: 0.6926 - accuracy: 0.5256\n",
      "Epoch 4/5\n",
      "2500/2500 [==============================] - 6s 2ms/step - loss: 0.6926 - accuracy: 0.5396\n",
      "Epoch 5/5\n",
      "2500/2500 [==============================] - 9s 3ms/step - loss: 0.6926 - accuracy: 0.5420\n"
     ]
    },
    {
     "data": {
      "text/plain": [
       "<keras.src.callbacks.History at 0x1a15f83ac50>"
      ]
     },
     "execution_count": 51,
     "metadata": {},
     "output_type": "execute_result"
    }
   ],
   "source": [
    "sgd_model=keras.Sequential([\n",
    "    keras.layers.Flatten(input_shape=(32,32)),\n",
    "    keras.layers.Dense(100,activation='relu'),\n",
    "    keras.layers.Dense(2,activation='sigmoid')\n",
    "])\n",
    "tb_callback=tf.keras.callbacks.TensorBoard(log_dir=\"logs/sgd\",histogram_freq=1)\n",
    "sgd_model.compile(optimizer='sgd',\n",
    "              loss='binary_crossentropy',\n",
    "              metrics=['accuracy']\n",
    "              )\n",
    "sgd_model.fit(x_train,y_train_0_categorical_encoded,epochs=5,callbacks=[tb_callback])"
   ]
  },
  {
   "cell_type": "code",
   "execution_count": 52,
   "id": "cb000afd",
   "metadata": {},
   "outputs": [
    {
     "name": "stdout",
     "output_type": "stream",
     "text": [
      "Epoch 1/5\n",
      "2500/2500 [==============================] - 8s 3ms/step - loss: 0.6374 - accuracy: 0.6544\n",
      "Epoch 2/5\n",
      "2500/2500 [==============================] - 9s 4ms/step - loss: 0.4774 - accuracy: 0.8235\n",
      "Epoch 3/5\n",
      "2500/2500 [==============================] - 7s 3ms/step - loss: 0.3884 - accuracy: 0.8538\n",
      "Epoch 4/5\n",
      "2500/2500 [==============================] - 8s 3ms/step - loss: 0.3509 - accuracy: 0.8650\n",
      "Epoch 5/5\n",
      "2500/2500 [==============================] - 8s 3ms/step - loss: 0.3318 - accuracy: 0.8718\n"
     ]
    },
    {
     "data": {
      "text/plain": [
       "<keras.src.callbacks.History at 0x1a161969110>"
      ]
     },
     "execution_count": 52,
     "metadata": {},
     "output_type": "execute_result"
    }
   ],
   "source": [
    "adam_model=keras.Sequential([\n",
    "    keras.layers.Flatten(input_shape=(32,32)),\n",
    "    keras.layers.Dense(100,activation='relu'),\n",
    "    keras.layers.Dense(2,activation='sigmoid')\n",
    "])\n",
    "tb_callback=tf.keras.callbacks.TensorBoard(log_dir=\"logs/adam\",histogram_freq=1)\n",
    "adam_model.compile(optimizer='adam',\n",
    "              loss='binary_crossentropy',\n",
    "              metrics=['accuracy']\n",
    "              )\n",
    "adam_model.fit(x_train,y_train_0_categorical_encoded,epochs=5,callbacks=[tb_callback])"
   ]
  },
  {
   "cell_type": "code",
   "execution_count": 49,
   "id": "7d3ff425",
   "metadata": {},
   "outputs": [
    {
     "data": {
      "text/plain": [
       "Reusing TensorBoard on port 6009 (pid 12980), started 0:00:41 ago. (Use '!kill 12980' to kill it.)"
      ]
     },
     "metadata": {},
     "output_type": "display_data"
    },
    {
     "data": {
      "text/html": [
       "\n",
       "      <iframe id=\"tensorboard-frame-61cd655f1cf7ef94\" width=\"100%\" height=\"800\" frameborder=\"0\">\n",
       "      </iframe>\n",
       "      <script>\n",
       "        (function() {\n",
       "          const frame = document.getElementById(\"tensorboard-frame-61cd655f1cf7ef94\");\n",
       "          const url = new URL(\"http://localhost\");\n",
       "          const port = 6009;\n",
       "          if (port) {\n",
       "            url.port = port;\n",
       "          }\n",
       "          frame.src = url;\n",
       "        })();\n",
       "      </script>\n",
       "    "
      ],
      "text/plain": [
       "<IPython.core.display.HTML object>"
      ]
     },
     "metadata": {},
     "output_type": "display_data"
    }
   ],
   "source": [
    "%reload_ext tensorboard\n",
    "# %load_ext tensorboard\n",
    "%tensorboard --logdir logs/"
   ]
  }
 ],
 "metadata": {
  "kernelspec": {
   "display_name": "Python 3 (ipykernel)",
   "language": "python",
   "name": "python3"
  },
  "language_info": {
   "codemirror_mode": {
    "name": "ipython",
    "version": 3
   },
   "file_extension": ".py",
   "mimetype": "text/x-python",
   "name": "python",
   "nbconvert_exporter": "python",
   "pygments_lexer": "ipython3",
   "version": "3.11.5"
  }
 },
 "nbformat": 4,
 "nbformat_minor": 5
}
